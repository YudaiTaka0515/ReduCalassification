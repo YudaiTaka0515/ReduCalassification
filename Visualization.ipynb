{
 "cells": [
  {
   "cell_type": "code",
   "execution_count": 25,
   "id": "da057248-e89e-44cc-9e06-fd6a6e36d610",
   "metadata": {},
   "outputs": [],
   "source": [
    "import pandas as pd\n",
    "import numpy as np\n",
    "import seaborn as sns\n",
    "import matplotlib.pyplot as plt"
   ]
  },
  {
   "cell_type": "code",
   "execution_count": 4,
   "id": "eee454c9-f98b-47a5-b058-ac9ee543867e",
   "metadata": {},
   "outputs": [
    {
     "data": {
      "text/html": [
       "<div>\n",
       "<style scoped>\n",
       "    .dataframe tbody tr th:only-of-type {\n",
       "        vertical-align: middle;\n",
       "    }\n",
       "\n",
       "    .dataframe tbody tr th {\n",
       "        vertical-align: top;\n",
       "    }\n",
       "\n",
       "    .dataframe thead th {\n",
       "        text-align: right;\n",
       "    }\n",
       "</style>\n",
       "<table border=\"1\" class=\"dataframe\">\n",
       "  <thead>\n",
       "    <tr style=\"text-align: right;\">\n",
       "      <th></th>\n",
       "      <th>dir</th>\n",
       "      <th>j_stn</th>\n",
       "      <th>nst_str</th>\n",
       "      <th>nst_end</th>\n",
       "      <th>redu_ratio</th>\n",
       "      <th>mstn</th>\n",
       "      <th>numb_stn</th>\n",
       "      <th>to_graph</th>\n",
       "    </tr>\n",
       "  </thead>\n",
       "  <tbody>\n",
       "    <tr>\n",
       "      <th>0</th>\n",
       "      <td>sim_output\\20210802-081705</td>\n",
       "      <td>2</td>\n",
       "      <td>12</td>\n",
       "      <td>17</td>\n",
       "      <td>0.00</td>\n",
       "      <td>0</td>\n",
       "      <td>0</td>\n",
       "      <td>1</td>\n",
       "    </tr>\n",
       "    <tr>\n",
       "      <th>1</th>\n",
       "      <td>sim_output\\20210802-082627</td>\n",
       "      <td>2</td>\n",
       "      <td>12</td>\n",
       "      <td>17</td>\n",
       "      <td>0.05</td>\n",
       "      <td>0</td>\n",
       "      <td>0</td>\n",
       "      <td>1</td>\n",
       "    </tr>\n",
       "    <tr>\n",
       "      <th>2</th>\n",
       "      <td>sim_output\\20210802-083730</td>\n",
       "      <td>2</td>\n",
       "      <td>12</td>\n",
       "      <td>17</td>\n",
       "      <td>0.10</td>\n",
       "      <td>0</td>\n",
       "      <td>0</td>\n",
       "      <td>1</td>\n",
       "    </tr>\n",
       "    <tr>\n",
       "      <th>3</th>\n",
       "      <td>sim_output\\20210802-084617</td>\n",
       "      <td>2</td>\n",
       "      <td>12</td>\n",
       "      <td>17</td>\n",
       "      <td>0.15</td>\n",
       "      <td>0</td>\n",
       "      <td>0</td>\n",
       "      <td>1</td>\n",
       "    </tr>\n",
       "    <tr>\n",
       "      <th>4</th>\n",
       "      <td>sim_output\\20210802-085502</td>\n",
       "      <td>2</td>\n",
       "      <td>12</td>\n",
       "      <td>17</td>\n",
       "      <td>0.20</td>\n",
       "      <td>0</td>\n",
       "      <td>0</td>\n",
       "      <td>1</td>\n",
       "    </tr>\n",
       "    <tr>\n",
       "      <th>...</th>\n",
       "      <td>...</td>\n",
       "      <td>...</td>\n",
       "      <td>...</td>\n",
       "      <td>...</td>\n",
       "      <td>...</td>\n",
       "      <td>...</td>\n",
       "      <td>...</td>\n",
       "      <td>...</td>\n",
       "    </tr>\n",
       "    <tr>\n",
       "      <th>522</th>\n",
       "      <td>sim_output\\20210807-114919</td>\n",
       "      <td>52</td>\n",
       "      <td>5</td>\n",
       "      <td>6</td>\n",
       "      <td>0.80</td>\n",
       "      <td>0</td>\n",
       "      <td>0</td>\n",
       "      <td>0</td>\n",
       "    </tr>\n",
       "    <tr>\n",
       "      <th>523</th>\n",
       "      <td>sim_output\\20210807-115723</td>\n",
       "      <td>52</td>\n",
       "      <td>5</td>\n",
       "      <td>6</td>\n",
       "      <td>1.00</td>\n",
       "      <td>0</td>\n",
       "      <td>0</td>\n",
       "      <td>0</td>\n",
       "    </tr>\n",
       "    <tr>\n",
       "      <th>524</th>\n",
       "      <td>sim_output\\20210807-120527</td>\n",
       "      <td>52</td>\n",
       "      <td>5</td>\n",
       "      <td>7</td>\n",
       "      <td>0.20</td>\n",
       "      <td>0</td>\n",
       "      <td>0</td>\n",
       "      <td>0</td>\n",
       "    </tr>\n",
       "    <tr>\n",
       "      <th>525</th>\n",
       "      <td>sim_output\\20210807-121331</td>\n",
       "      <td>52</td>\n",
       "      <td>5</td>\n",
       "      <td>7</td>\n",
       "      <td>0.40</td>\n",
       "      <td>0</td>\n",
       "      <td>0</td>\n",
       "      <td>0</td>\n",
       "    </tr>\n",
       "    <tr>\n",
       "      <th>526</th>\n",
       "      <td>sim_output\\20210807-122136</td>\n",
       "      <td>52</td>\n",
       "      <td>5</td>\n",
       "      <td>7</td>\n",
       "      <td>0.60</td>\n",
       "      <td>0</td>\n",
       "      <td>0</td>\n",
       "      <td>0</td>\n",
       "    </tr>\n",
       "  </tbody>\n",
       "</table>\n",
       "<p>527 rows × 8 columns</p>\n",
       "</div>"
      ],
      "text/plain": [
       "                            dir  j_stn  nst_str  nst_end  redu_ratio  mstn  \\\n",
       "0    sim_output\\20210802-081705      2       12       17        0.00     0   \n",
       "1    sim_output\\20210802-082627      2       12       17        0.05     0   \n",
       "2    sim_output\\20210802-083730      2       12       17        0.10     0   \n",
       "3    sim_output\\20210802-084617      2       12       17        0.15     0   \n",
       "4    sim_output\\20210802-085502      2       12       17        0.20     0   \n",
       "..                          ...    ...      ...      ...         ...   ...   \n",
       "522  sim_output\\20210807-114919     52        5        6        0.80     0   \n",
       "523  sim_output\\20210807-115723     52        5        6        1.00     0   \n",
       "524  sim_output\\20210807-120527     52        5        7        0.20     0   \n",
       "525  sim_output\\20210807-121331     52        5        7        0.40     0   \n",
       "526  sim_output\\20210807-122136     52        5        7        0.60     0   \n",
       "\n",
       "     numb_stn  to_graph  \n",
       "0           0         1  \n",
       "1           0         1  \n",
       "2           0         1  \n",
       "3           0         1  \n",
       "4           0         1  \n",
       "..        ...       ...  \n",
       "522         0         0  \n",
       "523         0         0  \n",
       "524         0         0  \n",
       "525         0         0  \n",
       "526         0         0  \n",
       "\n",
       "[527 rows x 8 columns]"
      ]
     },
     "execution_count": 4,
     "metadata": {},
     "output_type": "execute_result"
    }
   ],
   "source": [
    "df = pd.read_csv(\"DataBase.csv\")\n",
    "df"
   ]
  },
  {
   "cell_type": "code",
   "execution_count": 46,
   "id": "bedf7b9a-c4ac-4260-b652-c2b0d9499873",
   "metadata": {},
   "outputs": [
    {
     "data": {
      "text/plain": [
       "62"
      ]
     },
     "execution_count": 46,
     "metadata": {},
     "output_type": "execute_result"
    }
   ],
   "source": [
    "low_redu_df = df.query('redu_ratio<=0.2 & to_graph==1')\n",
    "# low_redu_df = df.query('redu_ratio<=0.2')\n",
    "len(low_redu_df)"
   ]
  },
  {
   "cell_type": "code",
   "execution_count": 47,
   "id": "09841fbd-e3f0-4a18-b699-fef397a2c0e3",
   "metadata": {},
   "outputs": [
    {
     "data": {
      "text/plain": [
       "59"
      ]
     },
     "execution_count": 47,
     "metadata": {},
     "output_type": "execute_result"
    }
   ],
   "source": [
    "high_redu_df = df.query('0.80<=redu_ratio<1.0 & to_graph==1')\n",
    "high_redu_df = df.query('0.80<=redu_ratio<1.0')\n",
    "\n",
    "len(a)"
   ]
  },
  {
   "cell_type": "code",
   "execution_count": 42,
   "id": "48af5162-8dbe-44b5-8828-9625743c7060",
   "metadata": {},
   "outputs": [
    {
     "name": "stdout",
     "output_type": "stream",
     "text": [
      "開始位置\n",
      "[ 2  5 35 42 52]\n",
      "[ 1  2  3  4  5 12]\n",
      "太さ\n",
      "[1 2 3 4 5]\n"
     ]
    }
   ],
   "source": [
    "# データセットの調査\n",
    "df['width'] = df['nst_end']-df['nst_str']\n",
    "print(\"開始位置\")\n",
    "print(np.unique(df['j_stn']))\n",
    "print(np.unique(df['nst_str']))\n",
    "print(\"太さ\")\n",
    "print(np.unique(df['width']))"
   ]
  },
  {
   "cell_type": "code",
   "execution_count": 43,
   "id": "572e3d81-ed0a-4eca-bd89-2f34036fa0f3",
   "metadata": {},
   "outputs": [
    {
     "data": {
      "text/plain": [
       "(array([119.,  98., 110.,  90., 110.]),\n",
       " array([1. , 1.8, 2.6, 3.4, 4.2, 5. ]),\n",
       " <BarContainer object of 5 artists>)"
      ]
     },
     "execution_count": 43,
     "metadata": {},
     "output_type": "execute_result"
    },
    {
     "data": {
      "image/png": "[encoded data removed]",
      "text/plain": [
       "<Figure size 432x288 with 1 Axes>"
      ]
     },
     "metadata": {
      "needs_background": "light"
     },
     "output_type": "display_data"
    }
   ],
   "source": [
    "# ヒストグラム\n",
    "plt.hist(df['width'], bins=5)"
   ]
  },
  {
   "cell_type": "code",
   "execution_count": 33,
   "id": "31e8cd46-857a-4120-bb99-9b509b4b99f6",
   "metadata": {},
   "outputs": [
    {
     "data": {
      "text/plain": [
       "(array([185.,   0.,   0.,   0.,   0.,   0., 125.,   0., 109., 108.]),\n",
       " array([ 2.,  7., 12., 17., 22., 27., 32., 37., 42., 47., 52.]),\n",
       " <BarContainer object of 10 artists>)"
      ]
     },
     "execution_count": 33,
     "metadata": {},
     "output_type": "execute_result"
    },
    {
     "data": {
      "image/png": "[encoded data removed]",
      "text/plain": [
       "<Figure size 432x288 with 1 Axes>"
      ]
     },
     "metadata": {
      "needs_background": "light"
     },
     "output_type": "display_data"
    }
   ],
   "source": [
    "plt.hist(df['j_stn'])"
   ]
  },
  {
   "cell_type": "code",
   "execution_count": 38,
   "id": "43701f50-7aa7-4d9b-9c85-a87164f28907",
   "metadata": {},
   "outputs": [
    {
     "data": {
      "text/plain": [
       "(array([40.,  0.,  0.,  0.,  0.,  0., 25.,  0., 22., 22.]),\n",
       " array([ 2.,  7., 12., 17., 22., 27., 32., 37., 42., 47., 52.]),\n",
       " <BarContainer object of 10 artists>)"
      ]
     },
     "execution_count": 38,
     "metadata": {},
     "output_type": "execute_result"
    },
    {
     "data": {
      "image/png": "[encoded data removed]",
      "text/plain": [
       "<Figure size 432x288 with 1 Axes>"
      ]
     },
     "metadata": {
      "needs_background": "light"
     },
     "output_type": "display_data"
    }
   ],
   "source": [
    "plt.hist(low_redu_df['j_stn'])"
   ]
  },
  {
   "cell_type": "code",
   "execution_count": 39,
   "id": "fe79388a-9fed-456b-894b-46ad00cdfd70",
   "metadata": {},
   "outputs": [
    {
     "data": {
      "text/plain": [
       "(array([37.,  0.,  0.,  0.,  0.,  0., 25.,  0., 22., 21.]),\n",
       " array([ 2.,  7., 12., 17., 22., 27., 32., 37., 42., 47., 52.]),\n",
       " <BarContainer object of 10 artists>)"
      ]
     },
     "execution_count": 39,
     "metadata": {},
     "output_type": "execute_result"
    },
    {
     "data": {
      "image/png": "[encoded data removed]",
      "text/plain": [
       "<Figure size 432x288 with 1 Axes>"
      ]
     },
     "metadata": {
      "needs_background": "light"
     },
     "output_type": "display_data"
    }
   ],
   "source": [
    "plt.hist(high_redu_df['j_stn'])"
   ]
  },
  {
   "cell_type": "code",
   "execution_count": null,
   "id": "f2531cc4-2fc2-41a5-a39f-b68f71955a4b",
   "metadata": {},
   "outputs": [],
   "source": []
  }
 ],
 "metadata": {
  "kernelspec": {
   "display_name": "Python 3",
   "language": "python",
   "name": "python3"
  },
  "language_info": {
   "codemirror_mode": {
    "name": "ipython",
    "version": 3
   },
   "file_extension": ".py",
   "mimetype": "text/x-python",
   "name": "python",
   "nbconvert_exporter": "python",
   "pygments_lexer": "ipython3",
   "version": "3.6.5"
  }
 },
 "nbformat": 4,
 "nbformat_minor": 5
}
